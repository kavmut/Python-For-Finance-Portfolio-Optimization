{
  "nbformat": 4,
  "nbformat_minor": 0,
  "metadata": {
    "colab": {
      "name": "Python For Finance Portfolio Optimization.ipynb",
      "provenance": [],
      "private_outputs": true,
      "authorship_tag": "ABX9TyOUsnbeKmkPEtASC9jTLZEx",
      "include_colab_link": true
    },
    "kernelspec": {
      "name": "python3",
      "display_name": "Python 3"
    }
  },
  "cells": [
    {
      "cell_type": "markdown",
      "metadata": {
        "id": "view-in-github",
        "colab_type": "text"
      },
      "source": [
        "<a href=\"https://colab.research.google.com/github/kavmut/Python-For-Finance-Portfolio-Optimization/blob/master/Python_For_Finance_Portfolio_Optimization.ipynb\" target=\"_parent\"><img src=\"https://colab.research.google.com/assets/colab-badge.svg\" alt=\"Open In Colab\"/></a>"
      ]
    },
    {
      "cell_type": "code",
      "metadata": {
        "id": "r2_tzee-O6Qg",
        "colab_type": "code",
        "colab": {}
      },
      "source": [
        "# Description This program attemts to optimize a users portfolio using the Efficient Frontier"
      ],
      "execution_count": null,
      "outputs": []
    },
    {
      "cell_type": "code",
      "metadata": {
        "id": "tZ7N5jHnPetc",
        "colab_type": "code",
        "colab": {}
      },
      "source": [
        "# Import the libraries\n",
        "from pandas_datareader import data as web\n",
        "import pandas as pd\n",
        "import numpy as np\n",
        "from datetime import datetime\n",
        "import matplotlib.pyplot as plt\n",
        "plt.style.use('fivethirtyeight')"
      ],
      "execution_count": null,
      "outputs": []
    },
    {
      "cell_type": "code",
      "metadata": {
        "id": "eN9540E9qA55",
        "colab_type": "code",
        "colab": {}
      },
      "source": [
        "# Get the stock symbols in the portfolio\n",
        "# FAANG\n",
        "assets = ['FB', 'AMZN', 'AAPL', 'NFLX', 'GOOG']"
      ],
      "execution_count": null,
      "outputs": []
    },
    {
      "cell_type": "code",
      "metadata": {
        "id": "s7Nq6w-jqZjf",
        "colab_type": "code",
        "colab": {}
      },
      "source": [
        "# Assign weights to the stocks \n",
        "weights = np.array([0.2, 0.2, 0.2, 0.2, 0.2])"
      ],
      "execution_count": null,
      "outputs": []
    },
    {
      "cell_type": "code",
      "metadata": {
        "id": "xS4hRyJ8qvce",
        "colab_type": "code",
        "colab": {}
      },
      "source": [
        "# Get the stock / portfolio starting date\n",
        "stockStartDate = '2013-01-01'"
      ],
      "execution_count": null,
      "outputs": []
    },
    {
      "cell_type": "code",
      "metadata": {
        "id": "8hKkvqxDq9B2",
        "colab_type": "code",
        "colab": {}
      },
      "source": [
        "# Get the stocks ending date (today)\n",
        "today = datetime.today().strftime('%Y-%m-%d')\n",
        "today"
      ],
      "execution_count": null,
      "outputs": []
    },
    {
      "cell_type": "code",
      "metadata": {
        "id": "c_P8PxgxrWJX",
        "colab_type": "code",
        "colab": {}
      },
      "source": [
        "# Create a dataframe to store the adjusted close price of the stocks\n",
        "df = pd.DataFrame()\n",
        "\n",
        "# Store the Adjusted close price of the stock indo the DataFrame\n",
        "for stock in assets:\n",
        "  df[stock] = web.DataReader(stock, data_source='yahoo', start=stockStartDate, end = today)['Adj Close']"
      ],
      "execution_count": null,
      "outputs": []
    },
    {
      "cell_type": "code",
      "metadata": {
        "id": "ptyEQwU_sTl0",
        "colab_type": "code",
        "colab": {}
      },
      "source": [
        "# Show the DataFrame\n",
        "df"
      ],
      "execution_count": null,
      "outputs": []
    },
    {
      "cell_type": "code",
      "metadata": {
        "id": "KtjB4AlFsfUr",
        "colab_type": "code",
        "colab": {}
      },
      "source": [
        "# Visually show the stock / portfolio\n",
        "title = 'Portfolio Adj. Close Price History'\n",
        "\n",
        "# Get the stocks\n",
        "my_stocks = df\n",
        "\n",
        "# Create and plot the graph\n",
        "for c in my_stocks.columns.values:\n",
        "  plt.plot(my_stocks[c], label = c)\n",
        "\n",
        "plt.title(title)\n",
        "plt.xlabel('Date', fontsize = 18)\n",
        "plt.ylabel('Adj. Price USD ($)', fontsize = 18)\n",
        "plt.legend(my_stocks.columns.values, loc='upper left')\n",
        "plt.show()"
      ],
      "execution_count": null,
      "outputs": []
    },
    {
      "cell_type": "code",
      "metadata": {
        "id": "EKJU_0aCtsUJ",
        "colab_type": "code",
        "colab": {}
      },
      "source": [
        "# Sho the daily simple returns\n",
        "returns = df.pct_change()\n",
        "returns"
      ],
      "execution_count": null,
      "outputs": []
    },
    {
      "cell_type": "code",
      "metadata": {
        "id": "pavdPRRPuH8m",
        "colab_type": "code",
        "colab": {}
      },
      "source": [
        "# Create and show the annualized covariance matrix\n",
        "cov_matrix_annual = returns.cov() * 252\n",
        "cov_matrix_annual"
      ],
      "execution_count": null,
      "outputs": []
    },
    {
      "cell_type": "code",
      "metadata": {
        "id": "DGiu4m4WufUe",
        "colab_type": "code",
        "colab": {}
      },
      "source": [
        "# Calculate the portfolio variance\n",
        "port_variance = np.dot( weights.T, np.dot(cov_matrix_annual, weights))\n",
        "port_variance"
      ],
      "execution_count": null,
      "outputs": []
    },
    {
      "cell_type": "code",
      "metadata": {
        "id": "d4Af74yGu8X4",
        "colab_type": "code",
        "colab": {}
      },
      "source": [
        "# Calcualte the portfolio volatility AKA standard deviation\n",
        "port_volatility = np.sqrt(port_variance)\n",
        "port_volatility"
      ],
      "execution_count": null,
      "outputs": []
    },
    {
      "cell_type": "code",
      "metadata": {
        "id": "AtFKf5APvUYY",
        "colab_type": "code",
        "colab": {}
      },
      "source": [
        "# Calcualte the annual portfolio return\n",
        "portflioSimpleAnnualReturn = np.sum(returns.mean() * weights) * 252\n",
        "portflioSimpleAnnualReturn"
      ],
      "execution_count": null,
      "outputs": []
    },
    {
      "cell_type": "code",
      "metadata": {
        "id": "zHa-bFbqwLQ0",
        "colab_type": "code",
        "colab": {}
      },
      "source": [
        "# Show the expected annual return, volatility, and variance\n",
        "\n",
        "percent_var = str( round(port_variance, 2) * 100) + '%'\n",
        "percent_vols = str(round(port_volatility,2)* 100 )+ '%'\n",
        "percent_ret = str(round(portflioSimpleAnnualReturn, 2) * 100) + '%'\n",
        "\n",
        "print('Expected annual return: '+ percent_ret)\n",
        "print('Annual volatility / risk: '+ percent_vols)\n",
        "print('Annual variance: '+ percent_var)"
      ],
      "execution_count": null,
      "outputs": []
    },
    {
      "cell_type": "code",
      "metadata": {
        "id": "tGIyOLdJxxqq",
        "colab_type": "code",
        "colab": {}
      },
      "source": [
        "pip install PyPortfolioOpt"
      ],
      "execution_count": null,
      "outputs": []
    },
    {
      "cell_type": "code",
      "metadata": {
        "id": "KNjJPw_kx7dv",
        "colab_type": "code",
        "colab": {}
      },
      "source": [
        "from pypfopt.efficient_frontier import EfficientFrontier\n",
        "from pypfopt import risk_models\n",
        "from pypfopt import expected_returns"
      ],
      "execution_count": null,
      "outputs": []
    },
    {
      "cell_type": "code",
      "metadata": {
        "id": "Cvq6-BQRyT9z",
        "colab_type": "code",
        "colab": {}
      },
      "source": [
        "# Portfolio Optimization !\n",
        "\n",
        "# Calculate the expected returns and the annualised sample covarinace matrix of asset returns\n",
        "mu = expected_returns.mean_historical_return(df)\n",
        "S = risk_models.sample_cov(df)\n",
        "\n",
        "# optimize for max sharp ratio\n",
        "ef = EfficientFrontier(mu, S)\n",
        "weights = ef.max_sharpe()\n",
        "cleaned_weights = ef.clean_weights()\n",
        "print(cleaned_weights)\n",
        "ef.portfolio_performance(verbose = True)"
      ],
      "execution_count": null,
      "outputs": []
    },
    {
      "cell_type": "code",
      "metadata": {
        "id": "fORKZx49z6ta",
        "colab_type": "code",
        "colab": {}
      },
      "source": [
        "# Get the discrete allocation of each share per stock\n",
        "from pypfopt.discrete_allocation import DiscreteAllocation, get_latest_prices\n",
        "\n",
        "latest_prices = get_latest_prices(df)\n",
        "weights = cleaned_weights\n",
        "da = DiscreteAllocation(weights, latest_prices, total_portfolio_value = 1500)\n",
        "\n",
        "allocation , leftover = da.lp_portfolio()\n",
        "print('Discrete allocation:', allocation)\n",
        "print('Funds remaining: ${:.2f}'.format(leftover))"
      ],
      "execution_count": null,
      "outputs": []
    }
  ]
}